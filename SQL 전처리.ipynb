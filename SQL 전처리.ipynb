{
 "cells": [
  {
   "cell_type": "code",
   "execution_count": 1,
   "metadata": {},
   "outputs": [],
   "source": [
    "import pandas as pd"
   ]
  },
  {
   "cell_type": "code",
   "execution_count": 3,
   "metadata": {},
   "outputs": [],
   "source": [
    "customer = pd.read_csv('Customer.csv')"
   ]
  },
  {
   "cell_type": "code",
   "execution_count": 5,
   "metadata": {},
   "outputs": [],
   "source": [
    "customer['join_date'] = pd.to_datetime(customer['join_date'])\n",
    "customer['birthday'] = pd.to_datetime(customer['birthday'])"
   ]
  },
  {
   "cell_type": "code",
   "execution_count": 10,
   "metadata": {},
   "outputs": [],
   "source": [
    "customer['age'] = 2021-customer['birthday'].dt.year+1\n",
    "customer['month'] = customer['join_date'].apply(lambda x : str(x)[:-12])"
   ]
  },
  {
   "cell_type": "code",
   "execution_count": 28,
   "metadata": {},
   "outputs": [],
   "source": [
    "age_list = []\n",
    "for age in customer['age'] :\n",
    "    if age <20 :\n",
    "        age_list.append('10대이하')\n",
    "    elif age<30 :\n",
    "        age_list.append('20대')\n",
    "    elif age<40 :\n",
    "        age_list.append('30대')\n",
    "    elif age<50 :\n",
    "        age_list.append('40대')\n",
    "    elif age<60 :\n",
    "        age_list.append('50대')\n",
    "    elif age<70 :\n",
    "        age_list.append('60대')\n",
    "    else :\n",
    "        age_list.append('60대이상')\n",
    "        \n",
    "customer['group'] = age_list"
   ]
  },
  {
   "cell_type": "code",
   "execution_count": 42,
   "metadata": {},
   "outputs": [],
   "source": [
    "sales = pd.read_csv('Sales.csv')"
   ]
  },
  {
   "cell_type": "code",
   "execution_count": 61,
   "metadata": {},
   "outputs": [],
   "source": [
    "buy_list = []\n",
    "for no in customer['mem_no'] :\n",
    "    if no in sorted(sales['mem_no'].unique()) :\n",
    "        buy_list.append('구매')\n",
    "    else: \n",
    "        buy_list.append('미구매')"
   ]
  },
  {
   "cell_type": "code",
   "execution_count": 64,
   "metadata": {},
   "outputs": [],
   "source": [
    "customer['buy'] = buy_list"
   ]
  },
  {
   "cell_type": "code",
   "execution_count": 66,
   "metadata": {},
   "outputs": [],
   "source": [
    "customer.to_csv('customer_profile.csv',index = False)"
   ]
  }
 ],
 "metadata": {
  "kernelspec": {
   "display_name": "Python 3",
   "language": "python",
   "name": "python3"
  },
  "language_info": {
   "codemirror_mode": {
    "name": "ipython",
    "version": 3
   },
   "file_extension": ".py",
   "mimetype": "text/x-python",
   "name": "python",
   "nbconvert_exporter": "python",
   "pygments_lexer": "ipython3",
   "version": "3.7.7"
  }
 },
 "nbformat": 4,
 "nbformat_minor": 4
}
